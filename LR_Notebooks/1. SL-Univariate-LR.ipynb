{
 "cells": [
  {
   "cell_type": "code",
   "execution_count": 3,
   "id": "e6e9de57-71a5-46fe-94a4-32a169fdbf4f",
   "metadata": {},
   "outputs": [],
   "source": [
    "import numpy as np\n",
    "import matplotlib.pyplot as plt\n",
    "from ipywidgets import interact, FloatSlider\n",
    "from IPython.display import display, clear_output"
   ]
  },
  {
   "cell_type": "code",
   "execution_count": 4,
   "id": "9a070f55-2fa5-4e7e-8143-3a81049c0691",
   "metadata": {},
   "outputs": [],
   "source": [
    "%matplotlib ipympl"
   ]
  },
  {
   "cell_type": "code",
   "execution_count": 5,
   "id": "685faf54-00c5-49ab-b0c0-a2d72f205d24",
   "metadata": {},
   "outputs": [],
   "source": [
    "# Generate synthetic data\n",
    "np.random.seed(0)\n",
    "X = np.linspace(0, 10, 100)\n",
    "Y = 2 * X + 1 + np.random.normal(0, 2, 100)"
   ]
  },
  {
   "cell_type": "code",
   "execution_count": 6,
   "id": "b6afbecf-df3b-42ff-a167-b363e4c833f2",
   "metadata": {},
   "outputs": [],
   "source": [
    "#Create a plot function for interactive visualization\n",
    "def plot_linear_regression(slope=2.0, intercept=1.0):\n",
    "    predicted_Y = slope * X + intercept\n",
    "    loss = np.mean((predicted_Y - Y) ** 2) # Calculate mean squared error (loss)\n",
    "\n",
    "    # Create the plot\n",
    "    plt.figure(figsize=(10, 5))\n",
    "    plt.scatter(X, Y, label='Data Points')\n",
    "    plt.plot(X, predicted_Y, color='red', label='Linear Regression Line')\n",
    "    plt.xlabel('X')\n",
    "    plt.ylabel('Y / Predicted Y')\n",
    "    plt.title(f'Linear Regression (Loss: {loss:.2f})')\n",
    "    plt.legend()\n",
    "    plt.grid(True)\n",
    "    plt.show()"
   ]
  },
  {
   "cell_type": "code",
   "execution_count": 7,
   "id": "93573a03-e7c2-44b9-bd33-83dc0dd405eb",
   "metadata": {},
   "outputs": [
    {
     "data": {
      "application/vnd.jupyter.widget-view+json": {
       "model_id": "1814ea2c3233457aab74ab60d8aefb2b",
       "version_major": 2,
       "version_minor": 0
      },
      "text/plain": [
       "interactive(children=(FloatSlider(value=4.0, description='Slope', max=5.0, min=-5.0), FloatSlider(value=3.0, d…"
      ]
     },
     "metadata": {},
     "output_type": "display_data"
    },
    {
     "data": {
      "text/plain": [
       "<function __main__.plot_linear_regression(slope=2.0, intercept=1.0)>"
      ]
     },
     "execution_count": 7,
     "metadata": {},
     "output_type": "execute_result"
    }
   ],
   "source": [
    "#Create sliders\n",
    "slope_slider = FloatSlider(value=4.0, min=-5.0, max=5.0, step=0.1, description='Slope')\n",
    "intercept_slider = FloatSlider(value=3.0, min=-5.0, max=5.0, step=0.1, description='Intercept')\n",
    "\n",
    "# Create an interactive widget\n",
    "interact(plot_linear_regression, slope=slope_slider, intercept=intercept_slider)"
   ]
  }
 ],
 "metadata": {
  "kernelspec": {
   "display_name": "Python 3 (ipykernel)",
   "language": "python",
   "name": "python3"
  },
  "language_info": {
   "codemirror_mode": {
    "name": "ipython",
    "version": 3
   },
   "file_extension": ".py",
   "mimetype": "text/x-python",
   "name": "python",
   "nbconvert_exporter": "python",
   "pygments_lexer": "ipython3",
   "version": "3.11.13"
  }
 },
 "nbformat": 4,
 "nbformat_minor": 5
}
